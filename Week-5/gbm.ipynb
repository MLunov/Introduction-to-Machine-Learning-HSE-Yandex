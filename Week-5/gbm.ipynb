{
 "cells": [
  {
   "cell_type": "markdown",
   "metadata": {},
   "source": [
    "# Programming Assignment: Градиентный бустинг над решающими деревьями\n",
    "\n",
    "Данное задание основано на материалах лекций по композициям алгоритмов.\n",
    "\n",
    "## Вы научитесь:\n",
    "\n",
    "* работать с градиентным бустингом и подбирать его гиперпараметры\n",
    "* сравнивать разные способы построения композиций\n",
    "* понимать, в каком случае лучше использовать случайный лес, а в каком — градиентный бустинг\n",
    "* использовать метрику log-loss\n",
    "\n",
    "## Введение\n",
    "\n",
    "Построение композиции — важный подход в машинном обучении, который позволяет объединять большое количество слабых алгоритмов в один сильный. Данный подход широко используется на практике в самых разных задачах.\n",
    "\n",
    "На лекциях был рассмотрен метод градиентного бустинга, который последовательно строит композицию алгоритмов, причем каждый следующий алгоритм выбирается так, чтобы исправлять ошибки уже имеющейся композиции. Обычно в качестве базовых алгоритмов используют деревья небольшой глубины, поскольку их достаточно легко строить, и при этом они дают нелинейные разделяющие поверхности.\n",
    "\n",
    "Другой метод построения композиций — случайный лес. В нем, в отличие от градиентного бустинга, отдельные деревья строятся независимо и без каких-либо ограничений на глубину — дерево наращивается до тех пор, пока не покажет наилучшее качество на обучающей выборке.\n",
    "\n",
    "В этом задании мы будем иметь дело с задачей классификации. В качестве функции потерь будем использовать `log-loss`:\n",
    "\n",
    "![Image](https://d3c33hcgiwev3.cloudfront.net/imageAssetProxy.v1/jpOJsbuLEeWW3xLV17cwNw_17df306ae15f2c7a9f7289565c55dea3_logloss.png?expiry=1576281600000&hmac=YAuBli61T1AT0rs5soo76ESAFJbHP0TAbUuECEbvuoY)\n",
    "\n",
    "Здесь через `y` обозначен истинный ответ, через `z` — прогноз алгоритма. Данная функция является дифференцируемой, и поэтому подходит для использования в градиентном бустинге. Также можно показать, что при ее использовании итоговый алгоритм будет приближать истинные вероятности классов.\n",
    "\n",
    "## Реализация в sklearn\n",
    "\n",
    "В пакете `scikit-learn` градиентный бустинг реализован в модуле `ensemble` в виде классов [GradientBoostingClassifier](http://scikit-learn.org/stable/modules/generated/sklearn.ensemble.GradientBoostingClassifier.html) и [GradientBoostingRegressor](http://scikit-learn.org/stable/modules/generated/sklearn.ensemble.GradientBoostingRegressor.html). Основные параметры, которые будут интересовать нас: `n_estimators`, `learning_rate`. Иногда может быть полезен параметр `verbose` для отслеживания процесса обучения.\n",
    "\n",
    "Чтобы была возможность оценить качество построенной композиции на каждой итерации, у класса есть метод [staged_decision_function](http://scikit-learn.org/stable/modules/generated/sklearn.ensemble.GradientBoostingClassifier.html#sklearn.ensemble.GradientBoostingClassifier.staged_decision_function). Для заданной выборки он возвращает ответ на каждой итерации.\n",
    "\n",
    "Помимо алгоритмов машинного обучения, в пакете `scikit-learn` представлено большое число различных инструментов. В этом задании будет предложено воспользоваться функцией [train_test_split](https://scikit-learn.org/stable/modules/generated/sklearn.model_selection.train_test_split.html) модуля `cross_validation`. С помощью нее можно разбивать выборки случайным образом. На вход можно передать несколько выборок (с условием, что они имеют одинаковое количество строк). Пусть, например, имеются данные `X` и `y`, где `X` — это признаковое описание объектов, `y` — целевое значение. Тогда следующий код будет удобен для разбиения этих данных на обучающее и тестовое множества:"
   ]
  },
  {
   "cell_type": "raw",
   "metadata": {},
   "source": [
    "X_train, X_test, y_train, y_test = \n",
    "                     train_test_split(X, y, \n",
    "                                      test_size=0.33, \n",
    "                                      random_state=42)"
   ]
  },
  {
   "cell_type": "markdown",
   "metadata": {},
   "source": [
    "Обратите внимание, что при фиксированном параметре `random_state` результат разбиения можно воспроизвести.\n",
    "\n",
    "Метрика [log-loss](http://scikit-learn.org/stable/modules/generated/sklearn.metrics.log_loss.html) реализована в пакете `metrics`: [sklearn.metrics.log_loss](http://scikit-learn.org/stable/modules/generated/sklearn.metrics.log_loss.html). Заметим, что данная метрика предназначена для классификаторов, выдающих оценку принадлежности классу, а не бинарные ответы. И градиентный бустинг, и случайный лес умеют строить такие прогнозы — для этого нужно использовать метод `predict_proba`:"
   ]
  },
  {
   "cell_type": "raw",
   "metadata": {},
   "source": [
    "pred = clf.predict_proba(X_test)"
   ]
  },
  {
   "cell_type": "markdown",
   "metadata": {},
   "source": [
    "Метод `predict_proba` возвращает матрицу, i-й столбец которой содержит оценки принадлежности i-му классу.\n",
    "\n",
    "Для рисования кривых качества на обучении и контроле можно воспользоваться следующим кодом:"
   ]
  },
  {
   "cell_type": "raw",
   "metadata": {},
   "source": [
    "import matplotlib.pyplot as plt\n",
    "%matplotlib inline\n",
    "plt.figure()\n",
    "plt.plot(test_loss, 'r', linewidth=2)\n",
    "plt.plot(train_loss, 'g', linewidth=2)\n",
    "plt.legend(['test', 'train'])"
   ]
  },
  {
   "cell_type": "markdown",
   "metadata": {},
   "source": [
    "## Материалы\n",
    "\n",
    "[Подробнее о градиентном бустинге и особенностях его применения к деревьям](https://github.com/esokolov/ml-course-hse/blob/master/2016-fall/lecture-notes/lecture09-ensembles.pdf)\n",
    "\n",
    "## Данные\n",
    "\n",
    "В рамках данного задания мы рассмотрим датасет с конкурса [Predicting a Biological Response](https://www.kaggle.com/c/bioresponse).\n",
    "\n",
    "## Инструкция по выполнению\n",
    "\n",
    "### Шаг 1:\n",
    "\n",
    "Загрузите выборку из файла `gbm-data.csv` с помощью `pandas` и преобразуйте ее в массив numpy (параметр `values` у датафрейма). В первой колонке файла с данными записано, была или нет реакция. Все остальные колонки (`d1 - d1776`) содержат различные характеристики молекулы, такие как размер, форма и т.д. Разбейте выборку на обучающую и тестовую, используя функцию `train_test_split` с параметрами `test_size = 0.8` и `random_state = 241`."
   ]
  },
  {
   "cell_type": "code",
   "execution_count": 1,
   "metadata": {},
   "outputs": [],
   "source": [
    "import numpy as np\n",
    "import pandas as pd\n",
    "from sklearn.ensemble import GradientBoostingClassifier, RandomForestClassifier\n",
    "from sklearn.model_selection import train_test_split\n",
    "from sklearn.metrics import log_loss\n",
    "import matplotlib\n",
    "import matplotlib.pyplot as plt\n",
    "matplotlib.style.use('ggplot')\n",
    "%matplotlib inline"
   ]
  },
  {
   "cell_type": "code",
   "execution_count": 2,
   "metadata": {},
   "outputs": [],
   "source": [
    "def write_answer(ans, n):\n",
    "    with open(\"ans{}.txt\".format(n), \"w\") as fout:\n",
    "        fout.write(str(ans))"
   ]
  },
  {
   "cell_type": "code",
   "execution_count": 3,
   "metadata": {},
   "outputs": [
    {
     "data": {
      "text/html": [
       "<div>\n",
       "<style scoped>\n",
       "    .dataframe tbody tr th:only-of-type {\n",
       "        vertical-align: middle;\n",
       "    }\n",
       "\n",
       "    .dataframe tbody tr th {\n",
       "        vertical-align: top;\n",
       "    }\n",
       "\n",
       "    .dataframe thead th {\n",
       "        text-align: right;\n",
       "    }\n",
       "</style>\n",
       "<table border=\"1\" class=\"dataframe\">\n",
       "  <thead>\n",
       "    <tr style=\"text-align: right;\">\n",
       "      <th></th>\n",
       "      <th>Activity</th>\n",
       "      <th>D1</th>\n",
       "      <th>D2</th>\n",
       "      <th>D3</th>\n",
       "      <th>D4</th>\n",
       "      <th>D5</th>\n",
       "      <th>D6</th>\n",
       "      <th>D7</th>\n",
       "      <th>D8</th>\n",
       "      <th>D9</th>\n",
       "      <th>...</th>\n",
       "      <th>D1767</th>\n",
       "      <th>D1768</th>\n",
       "      <th>D1769</th>\n",
       "      <th>D1770</th>\n",
       "      <th>D1771</th>\n",
       "      <th>D1772</th>\n",
       "      <th>D1773</th>\n",
       "      <th>D1774</th>\n",
       "      <th>D1775</th>\n",
       "      <th>D1776</th>\n",
       "    </tr>\n",
       "  </thead>\n",
       "  <tbody>\n",
       "    <tr>\n",
       "      <th>0</th>\n",
       "      <td>1</td>\n",
       "      <td>0.000000</td>\n",
       "      <td>0.497009</td>\n",
       "      <td>0.10</td>\n",
       "      <td>0.0</td>\n",
       "      <td>0.132956</td>\n",
       "      <td>0.678031</td>\n",
       "      <td>0.273166</td>\n",
       "      <td>0.585445</td>\n",
       "      <td>0.743663</td>\n",
       "      <td>...</td>\n",
       "      <td>0</td>\n",
       "      <td>0</td>\n",
       "      <td>0</td>\n",
       "      <td>0</td>\n",
       "      <td>0</td>\n",
       "      <td>0</td>\n",
       "      <td>0</td>\n",
       "      <td>0</td>\n",
       "      <td>0</td>\n",
       "      <td>0</td>\n",
       "    </tr>\n",
       "    <tr>\n",
       "      <th>1</th>\n",
       "      <td>1</td>\n",
       "      <td>0.366667</td>\n",
       "      <td>0.606291</td>\n",
       "      <td>0.05</td>\n",
       "      <td>0.0</td>\n",
       "      <td>0.111209</td>\n",
       "      <td>0.803455</td>\n",
       "      <td>0.106105</td>\n",
       "      <td>0.411754</td>\n",
       "      <td>0.836582</td>\n",
       "      <td>...</td>\n",
       "      <td>1</td>\n",
       "      <td>1</td>\n",
       "      <td>1</td>\n",
       "      <td>1</td>\n",
       "      <td>0</td>\n",
       "      <td>1</td>\n",
       "      <td>0</td>\n",
       "      <td>0</td>\n",
       "      <td>1</td>\n",
       "      <td>0</td>\n",
       "    </tr>\n",
       "    <tr>\n",
       "      <th>2</th>\n",
       "      <td>1</td>\n",
       "      <td>0.033300</td>\n",
       "      <td>0.480124</td>\n",
       "      <td>0.00</td>\n",
       "      <td>0.0</td>\n",
       "      <td>0.209791</td>\n",
       "      <td>0.610350</td>\n",
       "      <td>0.356453</td>\n",
       "      <td>0.517720</td>\n",
       "      <td>0.679051</td>\n",
       "      <td>...</td>\n",
       "      <td>0</td>\n",
       "      <td>0</td>\n",
       "      <td>0</td>\n",
       "      <td>0</td>\n",
       "      <td>0</td>\n",
       "      <td>0</td>\n",
       "      <td>0</td>\n",
       "      <td>0</td>\n",
       "      <td>0</td>\n",
       "      <td>0</td>\n",
       "    </tr>\n",
       "    <tr>\n",
       "      <th>3</th>\n",
       "      <td>1</td>\n",
       "      <td>0.000000</td>\n",
       "      <td>0.538825</td>\n",
       "      <td>0.00</td>\n",
       "      <td>0.5</td>\n",
       "      <td>0.196344</td>\n",
       "      <td>0.724230</td>\n",
       "      <td>0.235606</td>\n",
       "      <td>0.288764</td>\n",
       "      <td>0.805110</td>\n",
       "      <td>...</td>\n",
       "      <td>0</td>\n",
       "      <td>0</td>\n",
       "      <td>0</td>\n",
       "      <td>0</td>\n",
       "      <td>0</td>\n",
       "      <td>0</td>\n",
       "      <td>0</td>\n",
       "      <td>0</td>\n",
       "      <td>0</td>\n",
       "      <td>0</td>\n",
       "    </tr>\n",
       "    <tr>\n",
       "      <th>4</th>\n",
       "      <td>0</td>\n",
       "      <td>0.100000</td>\n",
       "      <td>0.517794</td>\n",
       "      <td>0.00</td>\n",
       "      <td>0.0</td>\n",
       "      <td>0.494734</td>\n",
       "      <td>0.781422</td>\n",
       "      <td>0.154361</td>\n",
       "      <td>0.303809</td>\n",
       "      <td>0.812646</td>\n",
       "      <td>...</td>\n",
       "      <td>0</td>\n",
       "      <td>0</td>\n",
       "      <td>0</td>\n",
       "      <td>0</td>\n",
       "      <td>0</td>\n",
       "      <td>0</td>\n",
       "      <td>0</td>\n",
       "      <td>0</td>\n",
       "      <td>0</td>\n",
       "      <td>0</td>\n",
       "    </tr>\n",
       "  </tbody>\n",
       "</table>\n",
       "<p>5 rows × 1777 columns</p>\n",
       "</div>"
      ],
      "text/plain": [
       "   Activity        D1        D2    D3   D4        D5        D6        D7  \\\n",
       "0         1  0.000000  0.497009  0.10  0.0  0.132956  0.678031  0.273166   \n",
       "1         1  0.366667  0.606291  0.05  0.0  0.111209  0.803455  0.106105   \n",
       "2         1  0.033300  0.480124  0.00  0.0  0.209791  0.610350  0.356453   \n",
       "3         1  0.000000  0.538825  0.00  0.5  0.196344  0.724230  0.235606   \n",
       "4         0  0.100000  0.517794  0.00  0.0  0.494734  0.781422  0.154361   \n",
       "\n",
       "         D8        D9  ...  D1767  D1768  D1769  D1770  D1771  D1772  D1773  \\\n",
       "0  0.585445  0.743663  ...      0      0      0      0      0      0      0   \n",
       "1  0.411754  0.836582  ...      1      1      1      1      0      1      0   \n",
       "2  0.517720  0.679051  ...      0      0      0      0      0      0      0   \n",
       "3  0.288764  0.805110  ...      0      0      0      0      0      0      0   \n",
       "4  0.303809  0.812646  ...      0      0      0      0      0      0      0   \n",
       "\n",
       "   D1774  D1775  D1776  \n",
       "0      0      0      0  \n",
       "1      0      1      0  \n",
       "2      0      0      0  \n",
       "3      0      0      0  \n",
       "4      0      0      0  \n",
       "\n",
       "[5 rows x 1777 columns]"
      ]
     },
     "execution_count": 3,
     "metadata": {},
     "output_type": "execute_result"
    }
   ],
   "source": [
    "data = pd.read_csv('gbm-data.csv')\n",
    "data.head()"
   ]
  },
  {
   "cell_type": "code",
   "execution_count": 4,
   "metadata": {},
   "outputs": [],
   "source": [
    "X = data.iloc[:, 1:]\n",
    "y = data.iloc[:, 0]"
   ]
  },
  {
   "cell_type": "code",
   "execution_count": 5,
   "metadata": {},
   "outputs": [],
   "source": [
    "X_train, X_test, y_train, y_test = train_test_split(X, y, test_size=0.8, random_state=241)"
   ]
  },
  {
   "cell_type": "markdown",
   "metadata": {},
   "source": [
    "### Шаг 2:\n",
    "\n",
    "Обучите `GradientBoostingClassifier` с параметрами `n_estimators=250`, `verbose=True`, `random_state=241` и для каждого значения `learning_rate` из списка [1, 0.5, 0.3, 0.2, 0.1] проделайте следующее:\n",
    "\n",
    "* Используйте метод `staged_decision_function` для предсказания качества на обучающей и тестовой выборке на каждой итерации.\n",
    "* Преобразуйте полученное предсказание с помощью сигмоидной функции по формуле $1 / (1 + e^{−y_{pred}})$, где $y_{pred}$ — предсказанное значение.\n",
    "* Вычислите и постройте график значений `log-loss` (которую можно посчитать с помощью функции `sklearn.metrics.log_loss`) на обучающей и тестовой выборках, а также найдите минимальное значение метрики и номер итерации, на которой оно достигается."
   ]
  },
  {
   "cell_type": "code",
   "execution_count": 6,
   "metadata": {},
   "outputs": [
    {
     "name": "stdout",
     "output_type": "stream",
     "text": [
      "      Iter       Train Loss   Remaining Time \n",
      "         1           1.0190           10.96s\n",
      "         2           0.9192           11.04s\n",
      "         3           0.8272            9.88s\n",
      "         4           0.7834            8.86s\n",
      "         5           0.7109            8.67s\n",
      "         6           0.6368            9.31s\n",
      "         7           0.5797            9.17s\n",
      "         8           0.5610            8.59s\n",
      "         9           0.5185            8.44s\n",
      "        10           0.4984            8.06s\n",
      "        20           0.1999            7.82s\n",
      "        30           0.1313            6.85s\n",
      "        40           0.0790            6.43s\n",
      "        50           0.0511            6.15s\n",
      "        60           0.0352            5.85s\n",
      "        70           0.0245            5.44s\n",
      "        80           0.0162            5.10s\n",
      "        90           0.0114            4.76s\n",
      "       100           0.0077            4.46s\n",
      "       200           0.0004            1.41s\n",
      "\n",
      "min log-loss: 0.5822942594278476 \n",
      "the number of iteration: 1 \n",
      "\n",
      "      Iter       Train Loss   Remaining Time \n",
      "         1           1.1255           10.96s\n",
      "         2           1.0035           11.16s\n",
      "         3           0.9386           12.60s\n",
      "         4           0.8844           12.12s\n",
      "         5           0.8381           12.25s\n",
      "         6           0.7995           11.59s\n",
      "         7           0.7559           11.14s\n",
      "         8           0.7205           10.71s\n",
      "         9           0.6958           10.20s\n",
      "        10           0.6725            9.84s\n",
      "        20           0.4672            8.08s\n",
      "        30           0.3179            7.57s\n",
      "        40           0.2274            7.17s\n",
      "        50           0.1774            7.02s\n",
      "        60           0.1394            6.56s\n",
      "        70           0.1050            6.23s\n",
      "        80           0.0805            5.90s\n",
      "        90           0.0650            5.54s\n",
      "       100           0.0511            5.15s\n",
      "       200           0.0058            1.70s\n",
      "\n",
      "min log-loss: 0.5582025523164261 \n",
      "the number of iteration: 7 \n",
      "\n",
      "      Iter       Train Loss   Remaining Time \n",
      "         1           1.2095           10.96s\n",
      "         2           1.1006           10.91s\n",
      "         3           1.0240           11.36s\n",
      "         4           0.9729           11.26s\n",
      "         5           0.9387           10.34s\n",
      "         6           0.8948           10.41s\n",
      "         7           0.8621           10.48s\n",
      "         8           0.8360           10.53s\n",
      "         9           0.8171           10.42s\n",
      "        10           0.7883           10.54s\n",
      "        20           0.6164            8.72s\n",
      "        30           0.4933            8.24s\n",
      "        40           0.4248            7.38s\n",
      "        50           0.3345            7.03s\n",
      "        60           0.2760            6.74s\n",
      "        70           0.2263            6.41s\n",
      "        80           0.1971            5.96s\n",
      "        90           0.1693            5.49s\n",
      "       100           0.1388            5.15s\n",
      "       200           0.0294            1.67s\n",
      "\n",
      "min log-loss: 0.5423141110024554 \n",
      "the number of iteration: 11 \n",
      "\n",
      "      Iter       Train Loss   Remaining Time \n",
      "         1           1.2613           10.96s\n",
      "         2           1.1715           10.91s\n",
      "         3           1.1009           10.87s\n",
      "         4           1.0529           12.98s\n",
      "         5           1.0130           12.54s\n",
      "         6           0.9740           12.20s\n",
      "         7           0.9475           11.39s\n",
      "         8           0.9197           11.59s\n",
      "         9           0.8979           11.03s\n",
      "        10           0.8730           10.87s\n",
      "        20           0.7207            8.59s\n",
      "        30           0.6055            7.67s\n",
      "        40           0.5244            7.04s\n",
      "        50           0.4501            6.58s\n",
      "        60           0.3908            6.16s\n",
      "        70           0.3372            5.81s\n",
      "        80           0.3009            5.46s\n",
      "        90           0.2603            5.15s\n",
      "       100           0.2327            4.77s\n",
      "       200           0.0835            1.52s\n",
      "\n",
      "min log-loss: 0.5314507963190638 \n",
      "the number of iteration: 37 \n",
      "\n",
      "      Iter       Train Loss   Remaining Time \n",
      "         1           1.3199           10.71s\n",
      "         2           1.2645           10.79s\n",
      "         3           1.2170           10.87s\n",
      "         4           1.1775           12.36s\n",
      "         5           1.1404           12.40s\n",
      "         6           1.1106           12.08s\n",
      "         7           1.0844           11.84s\n",
      "         8           1.0617           12.01s\n",
      "         9           1.0411           11.84s\n",
      "        10           1.0223           11.66s\n",
      "        20           0.8864            9.93s\n",
      "        30           0.7844            8.67s\n",
      "        40           0.7176            7.72s\n",
      "        50           0.6590            7.03s\n",
      "        60           0.6120            6.46s\n",
      "        70           0.5599            6.06s\n",
      "        80           0.5242            5.62s\n",
      "        90           0.4829            5.25s\n",
      "       100           0.4473            4.87s\n",
      "       200           0.2379            1.64s\n",
      "\n",
      "min log-loss: 0.5269201872275844 \n",
      "the number of iteration: 52 \n",
      "\n"
     ]
    },
    {
     "data": {
      "image/png": "[encoded data removed]",
      "text/plain": [
       "<Figure size 432x288 with 1 Axes>"
      ]
     },
     "metadata": {
      "needs_background": "light"
     },
     "output_type": "display_data"
    },
    {
     "data": {
      "image/png": "[encoded data removed]",
      "text/plain": [
       "<Figure size 432x288 with 1 Axes>"
      ]
     },
     "metadata": {
      "needs_background": "light"
     },
     "output_type": "display_data"
    },
    {
     "data": {
      "image/png": "[encoded data removed]",
      "text/plain": [
       "<Figure size 432x288 with 1 Axes>"
      ]
     },
     "metadata": {
      "needs_background": "light"
     },
     "output_type": "display_data"
    },
    {
     "data": {
      "image/png": "[encoded data removed]",
      "text/plain": [
       "<Figure size 432x288 with 1 Axes>"
      ]
     },
     "metadata": {
      "needs_background": "light"
     },
     "output_type": "display_data"
    },
    {
     "data": {
      "image/png": "[encoded data removed]",
      "text/plain": [
       "<Figure size 432x288 with 1 Axes>"
      ]
     },
     "metadata": {
      "needs_background": "light"
     },
     "output_type": "display_data"
    }
   ],
   "source": [
    "def sigma(y):\n",
    "    return 1 / (1 + np.exp(-y))\n",
    "\n",
    "log_los = {}\n",
    "for rate in [1, 0.5, 0.3, 0.2, 0.1]:\n",
    "    clf = GradientBoostingClassifier(learning_rate=rate, n_estimators=250, verbose=True, random_state=241)\n",
    "    clf.fit(X_train, y_train)\n",
    "    \n",
    "    y_pred_train = list(map(sigma, clf.staged_decision_function(X_train)))\n",
    "    y_pred_test = list(map(sigma, clf.staged_decision_function(X_test)))\n",
    "    \n",
    "    train_loss = np.array([log_loss(y_train, y_pred) for y_pred in y_pred_train])\n",
    "    test_loss = np.array([log_loss(y_test, y_pred) for y_pred in y_pred_test])\n",
    "    \n",
    "    log_los[rate] =  [min(test_loss), np.argmin(test_loss) + 1]\n",
    "    print('\\nmin log-loss:', log_los[rate][0],'\\nthe number of iteration:', log_los[rate][1],'\\n')       \n",
    "    \n",
    "    plt.figure()\n",
    "    plt.plot(test_loss, 'r', linewidth=2)\n",
    "    plt.plot(train_loss, 'g', linewidth=2)\n",
    "    plt.xlabel('n iterations')\n",
    "    plt.ylabel('log-loss')\n",
    "    plt.title('learning_rate={}'.format(rate))\n",
    "    plt.legend(['test', 'train'])"
   ]
  },
  {
   "cell_type": "markdown",
   "metadata": {},
   "source": [
    "### Шаг 3: \n",
    "Как можно охарактеризовать график качества на тестовой выборке, начиная с некоторой итерации: переобучение (`overfitting`) или недообучение (`underfitting`)? В ответе укажите одно из слов `overfitting` либо `underfitting`."
   ]
  },
  {
   "cell_type": "code",
   "execution_count": 7,
   "metadata": {},
   "outputs": [],
   "source": [
    "write_answer('overfitting', 1)"
   ]
  },
  {
   "cell_type": "markdown",
   "metadata": {},
   "source": [
    "### Шаг 4:\n",
    "\n",
    "Приведите минимальное значение `log-loss` на тестовой выборке и номер итерации, на котором оно достигается, при `learning_rate = 0.2`."
   ]
  },
  {
   "cell_type": "code",
   "execution_count": 8,
   "metadata": {},
   "outputs": [
    {
     "name": "stdout",
     "output_type": "stream",
     "text": [
      "0.5314507963190638 37\n"
     ]
    }
   ],
   "source": [
    "print(*log_los[0.2])\n",
    "write_answer(str(log_los[0.2][0])+' '+str(log_los[0.2][1]), 2)"
   ]
  },
  {
   "cell_type": "markdown",
   "metadata": {},
   "source": [
    "### Шаг 5:\n",
    "\n",
    "На этих же данных обучите `RandomForestClassifier` с количеством деревьев, равным количеству итераций, на котором достигается наилучшее качество у градиентного бустинга из предыдущего пункта, c `random_state=241` и остальными параметрами по умолчанию. Какое значение `log-loss` на тесте получается у этого случайного леса? (Не забывайте, что предсказания нужно получать с помощью функции predict_proba. В данном случае брать сигмоиду от оценки вероятности класса не нужно)"
   ]
  },
  {
   "cell_type": "code",
   "execution_count": 9,
   "metadata": {},
   "outputs": [
    {
     "name": "stdout",
     "output_type": "stream",
     "text": [
      "0.5410941951182815\n"
     ]
    }
   ],
   "source": [
    "clf = RandomForestClassifier(n_estimators=log_los[0.2][1], random_state=241)\n",
    "clf.fit(X_train, y_train)\n",
    "\n",
    "y_pred = clf.predict_proba(X_test)\n",
    "loss = log_loss(y_test, y_pred)\n",
    "\n",
    "print(loss)\n",
    "write_answer(loss, 3)"
   ]
  },
  {
   "cell_type": "markdown",
   "metadata": {},
   "source": [
    "Если ответом является нецелое число, то целую и дробную часть необходимо разграничивать точкой, например, 0.42. При необходимости округляйте дробную часть до двух знаков.\n",
    "\n",
    "Обратите внимание, что, хотя в градиентного бустинге гораздо более слабые базовые алгоритмы, он выигрывает у случайного леса благодаря более \"направленной\" настройке — каждый следующий алгоритм исправляет ошибки имеющейся композиции. Также он обучается быстрее случайного леса благодаря использованию неглубоких деревьев. В то же время, случайный лес может показать более высокое качество при неограниченных ресурсах — так, он выиграет у градиентного бустинга на наших данных, если увеличить число деревьев до нескольких сотен (проверьте сами!)."
   ]
  }
 ],
 "metadata": {
  "kernelspec": {
   "display_name": "Python 3",
   "language": "python",
   "name": "python3"
  },
  "language_info": {
   "codemirror_mode": {
    "name": "ipython",
    "version": 3
   },
   "file_extension": ".py",
   "mimetype": "text/x-python",
   "name": "python",
   "nbconvert_exporter": "python",
   "pygments_lexer": "ipython3",
   "version": "3.7.3"
  }
 },
 "nbformat": 4,
 "nbformat_minor": 2
}
