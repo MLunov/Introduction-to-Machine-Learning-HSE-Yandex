{
 "cells": [
  {
   "cell_type": "markdown",
   "metadata": {},
   "source": [
    "# Programming Assignment: Логистическая регрессия\n",
    "\n",
    "## Введение\n",
    "\n",
    "Логистическая регрессия — один из видов линейных классификаторов. Одной из ее особенностей является возможность оценивания вероятностей классов, тогда как большинство линейных классификаторов могут выдавать только номера классов.\n",
    "\n",
    "Логистическая регрессия использует достаточно сложный функционал качества, который не допускает записи решения в явном виде (в отличие от, например, линейной регрессии). Тем не менее, логистическую регрессию можно настраивать с помощью градиентного спуска.\n",
    "\n",
    "Мы будем работать с выборкой, содержащей два признака. Будем считать, что ответы лежат в множестве {-1, 1}. Для настройки логистической регрессии мы будем решать следующую задачу:\n",
    "\n",
    "![Image](https://d3c33hcgiwev3.cloudfront.net/imageAssetProxy.v1/eah308eQEeW7RxKvROGwrw_b19d35881f472bbcaaa2fb7fcf4813f7_logreg.png?expiry=1576281600000&hmac=MmO3imnKarO54-Hjq6CWPJHVZRXGR4VqmOl8g0PaxAU)\n",
    "\n",
    "Здесь $x_{i1}$ и $x_{i2}$ — значение первого и второго признаков соответственно на объекте  $x_{i}$. В этом задании мы будем рассматривать алгоритмы без свободного члена, чтобы упростить работу.\n",
    "\n",
    "Градиентный шаг для весов будет заключаться в одновременном обновлении весов $w_1$ и $w_2$ по следующим формулам (проверьте сами, что здесь действительно выписана производная нашего функционала):\n",
    "![Image](https://d3c33hcgiwev3.cloudfront.net/imageAssetProxy.v1/hrIFu8eQEeWoXw5ZvVCRuw_1a61e227f5a1bc7fc0354df00fa70781_logderiv.png?expiry=1576281600000&hmac=iwzWoSW5zGPsHfFl1u_Z1hyZtILsGd5eJ9R1XcXwUqM)\n",
    "![Image](https://d3c33hcgiwev3.cloudfront.net/imageAssetProxy.v1/kb-c5MeQEeW7RxKvROGwrw_48f340a33cb38e1de9317b7df29d1cda_logderiv2.png?expiry=1576281600000&hmac=mDC4wi7-p8z8T8DF3NjaCONyml9RGSoK-cQ9a6i46RI)\n",
    "\n",
    "Здесь $k$ — размер шага.\n",
    "\n",
    "Линейные методы могут переобучаться и давать плохое качество из-за различных проблем в данных: мультиколлинеарности, зашумленности и т.д. Чтобы избежать этого, следует использовать регуляризацию — она позволяет понизить сложность модели и не допустить переобучения. Сила регуляризации определяется коэффициентом C в формулах, указанных выше.\n",
    "\n",
    "## Реализация в Scikit-Learn\n",
    "\n",
    "В этом задании мы предлагаем вам самостоятельно реализовать градиентный спуск.\n",
    "\n",
    "В качестве метрики качества будем использовать `AUC-ROC` (`Area Under ROC-Curve`). Она предназначена для алгоритмов бинарной классификации, выдающих оценку принадлежности объекта к одному из классов. По сути, значение этой метрики является агрегацией показателей качества всех алгоритмов, которые можно получить, выбирая какой-либо порог для оценки принадлежности.\n",
    "\n",
    "В `Scikit-Learn` метрика `AUC` реализована функцией `sklearn.metrics.roc_auc_score`. В качестве первого аргумента ей передается вектор истинных ответов, в качестве второго — вектор с оценками принадлежности объектов к первому классу.\n",
    "\n",
    "## Материалы\n",
    "* [Подробнее о логистической регрессии и предсказании вероятностей с ее помощью](https://github.com/esokolov/ml-course-hse/blob/master/2016-fall/lecture-notes/lecture05-linclass.pdf)\n",
    "* [Подробнее о градиентах и градиентном спуске](https://github.com/esokolov/ml-course-hse/blob/master/2016-fall/lecture-notes/lecture02-linregr.pdf)\n",
    "\n",
    "## Инструкция по выполнению\n",
    "\n",
    "### Шаг 1: \n",
    "\n",
    "Загрузите данные из файла `data-logistic.csv`. Это двумерная выборка, целевая переменная на которой принимает значения -1 или 1."
   ]
  },
  {
   "cell_type": "code",
   "execution_count": 1,
   "metadata": {},
   "outputs": [],
   "source": [
    "import numpy as np\n",
    "import pandas as pd\n",
    "from sklearn.metrics import mean_squared_error as mse, roc_auc_score"
   ]
  },
  {
   "cell_type": "code",
   "execution_count": 2,
   "metadata": {},
   "outputs": [],
   "source": [
    "df = pd.read_csv('data-logistic.csv', header=None)\n",
    "X = df.loc[:, 1:]\n",
    "y = df[0]"
   ]
  },
  {
   "cell_type": "markdown",
   "metadata": {},
   "source": [
    "### Шаг 2: \n",
    "\n",
    "Убедитесь, что выше выписаны правильные формулы для градиентного спуска. Обратите внимание, что мы используем полноценный градиентный спуск, а не его стохастический вариант!"
   ]
  },
  {
   "cell_type": "code",
   "execution_count": 3,
   "metadata": {},
   "outputs": [],
   "source": [
    "def sigma_y(i, w1, w2):\n",
    "    return 1. / (1. + np.exp(-y[i] * (w1*X[1][i] + w2*X[2][i])))\n",
    "\n",
    "def delta_for_w(w_index, w1, w2, C, k):\n",
    "    addition = sum(y[i] * X[w_index][i] * (1. - sigma_y(i, w1, w2)) for i in np.arange(0, len(y)))\n",
    "    addition *= k / len(y)\n",
    "    addition -= k * C * (w1 if w_index == 1 else w2)\n",
    "    \n",
    "    return addition"
   ]
  },
  {
   "cell_type": "markdown",
   "metadata": {},
   "source": [
    "### Шаг 3: \n",
    "\n",
    "Реализуйте градиентный спуск для обычной и `L2`-регуляризованной (с коэффициентом регуляризации 10) логистической регрессии. Используйте длину шага `k=0.1`. В качестве начального приближения используйте вектор (0, 0)."
   ]
  },
  {
   "cell_type": "code",
   "execution_count": 4,
   "metadata": {},
   "outputs": [],
   "source": [
    "def gradient_regressor(C, iterations_remaining=10000, k=0.1, ERROR=1e-5):\n",
    "    changed_w1, changed_w2 = 0., 0.\n",
    "    while iterations_remaining:\n",
    "        iterations_remaining -= 1\n",
    "        w1, w2 = changed_w1, changed_w2\n",
    "        changed_w1 = w1 + delta_for_w(1, w1, w2, C, k)\n",
    "        changed_w2 = w2 + delta_for_w(2, w1, w2, C, k)\n",
    "        if np.sqrt(mse([w1, w2], [changed_w1, changed_w2])) <= ERROR:\n",
    "            break\n",
    "    return changed_w1, changed_w2"
   ]
  },
  {
   "cell_type": "markdown",
   "metadata": {},
   "source": [
    "### Шаг 4:\n",
    "\n",
    "Запустите градиентный спуск и доведите до сходимости (евклидово расстояние между векторами весов на соседних итерациях должно быть не больше 1e-5). Рекомендуется ограничить сверху число итераций десятью тысячами."
   ]
  },
  {
   "cell_type": "code",
   "execution_count": 5,
   "metadata": {},
   "outputs": [
    {
     "name": "stdout",
     "output_type": "stream",
     "text": [
      "0.28768325128305977 0.09210201173422795 0.028558754546234223 0.024780137249735563\n"
     ]
    }
   ],
   "source": [
    "def sigma(xi, w1, w2):\n",
    "    return 1. / (1 + np.exp(-w1 * xi[1] - w2 * xi[2]))\n",
    "\n",
    "w1, w2 = gradient_regressor(0.)\n",
    "l2w1, l2w2 = gradient_regressor(10.)\n",
    "\n",
    "print(w1, w2, l2w1, l2w2)\n",
    "\n",
    "scores = X.apply(lambda xi: sigma(xi, w1, w2), axis=1)\n",
    "l2scores = X.apply(lambda xi: sigma(xi, l2w1, l2w2), axis=1)"
   ]
  },
  {
   "cell_type": "markdown",
   "metadata": {},
   "source": [
    "### Шаг 5: \n",
    "\n",
    "Какое значение принимает `AUC-ROC` на обучении без регуляризации и при ее использовании? Эти величины будут ответом на задание. В качестве ответа приведите два числа через пробел. Обратите внимание, что на вход функции roc_auc_score нужно подавать оценки вероятностей, подсчитанные обученным алгоритмом. Для этого воспользуйтесь сигмоидной функцией: $a(x) = 1 / (1 + exp(-w_1 x_1 - w_2 x_2)$)."
   ]
  },
  {
   "cell_type": "code",
   "execution_count": 6,
   "metadata": {},
   "outputs": [
    {
     "name": "stdout",
     "output_type": "stream",
     "text": [
      "0.9268571428571428\n",
      "0.9362857142857142\n"
     ]
    }
   ],
   "source": [
    "auc_score = roc_auc_score(y, scores)\n",
    "l2_auc_score = roc_auc_score(y, l2scores)\n",
    "\n",
    "print(auc_score)\n",
    "print(l2_auc_score)\n",
    "\n",
    "with open(\"ans.txt\", \"w\") as f:\n",
    "    f.write(str(auc_score) + ' ' + str(l2_auc_score))"
   ]
  },
  {
   "cell_type": "markdown",
   "metadata": {},
   "source": [
    "### Шаг 6: \n",
    "\n",
    "Попробуйте поменять длину шага. Будет ли сходиться алгоритм, если делать более длинные шаги? Как меняется число итераций при уменьшении длины шага?"
   ]
  },
  {
   "cell_type": "code",
   "execution_count": null,
   "metadata": {},
   "outputs": [],
   "source": []
  },
  {
   "cell_type": "markdown",
   "metadata": {},
   "source": [
    "### Шаг 7: \n",
    "\n",
    "Попробуйте менять начальное приближение. Влияет ли оно на что-нибудь?"
   ]
  },
  {
   "cell_type": "code",
   "execution_count": null,
   "metadata": {},
   "outputs": [],
   "source": []
  },
  {
   "cell_type": "markdown",
   "metadata": {},
   "source": [
    "Если ответом является нецелое число, то целую и дробную часть необходимо разграничивать точкой, например, 0.421. При необходимости округляйте дробную часть до трех знаков."
   ]
  }
 ],
 "metadata": {
  "kernelspec": {
   "display_name": "Python 3",
   "language": "python",
   "name": "python3"
  },
  "language_info": {
   "codemirror_mode": {
    "name": "ipython",
    "version": 3
   },
   "file_extension": ".py",
   "mimetype": "text/x-python",
   "name": "python",
   "nbconvert_exporter": "python",
   "pygments_lexer": "ipython3",
   "version": "3.7.3"
  }
 },
 "nbformat": 4,
 "nbformat_minor": 2
}
