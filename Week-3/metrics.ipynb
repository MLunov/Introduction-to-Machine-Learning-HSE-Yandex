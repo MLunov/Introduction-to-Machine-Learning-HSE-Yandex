{
 "cells": [
  {
   "cell_type": "markdown",
   "metadata": {},
   "source": [
    "# Programming Assignment: Метрики качества классификации\n",
    "\n",
    "## Введение\n",
    "\n",
    "В задачах классификации может быть много особенностей, влияющих на подсчет качества: различные цены ошибок, несбалансированность классов и т.д. Из-за этого существует большое количество метрик качества — каждая из них рассчитана на определенное сочетание свойств задачи и требований к ее решению.\n",
    "\n",
    "Меры качества классификации можно разбить на две большие группы: предназначенные для алгоритмов, выдающих номера классов, и для алгоритмов, выдающих оценки принадлежности к классам. К первой группе относятся доля правильных ответов, точность, полнота, F-мера. Ко второй — площади под `ROC`- или `PR`-кривой.\n",
    "\n",
    "## Реализация в sklearn\n",
    "\n",
    "Различные метрики качества реализованы в пакете `sklearn.metrics`. Конкретные функции указаны в инструкции по выполнению задания.\n",
    "\n",
    "## Материалы\n",
    "\n",
    "* [Подробнее о метриках качества](https://github.com/esokolov/ml-course-hse/blob/master/2016-fall/lecture-notes/lecture04-linclass.pdf)\n",
    "* [Задачи по AUC-ROC](https://github.com/esokolov/ml-course-hse/blob/master/2016-fall/seminars/sem05-linclass.pdf)\n",
    "\n",
    "## Инструкция по выполнению"
   ]
  },
  {
   "cell_type": "code",
   "execution_count": 1,
   "metadata": {},
   "outputs": [],
   "source": [
    "import numpy as np\n",
    "import pandas as pd\n",
    "from sklearn.metrics import accuracy_score, precision_score, recall_score, f1_score, roc_auc_score, precision_recall_curve"
   ]
  },
  {
   "cell_type": "code",
   "execution_count": 2,
   "metadata": {},
   "outputs": [],
   "source": [
    "def write_answer(*ans, n):\n",
    "    with open(\"ans{}.txt\".format(n), \"w\") as f:\n",
    "        answer = str(ans[0])\n",
    "        for i in ans[1:]:\n",
    "            answer += ' ' + str(i) \n",
    "        f.write(str(answer))"
   ]
  },
  {
   "cell_type": "markdown",
   "metadata": {},
   "source": [
    "### Шаг 1:\n",
    "\n",
    "Загрузите файл `classification.csv`. В нем записаны истинные классы объектов выборки (колонка `true`) и ответы некоторого классификатора (колонка `pred`)."
   ]
  },
  {
   "cell_type": "code",
   "execution_count": 3,
   "metadata": {},
   "outputs": [
    {
     "data": {
      "text/html": [
       "<div>\n",
       "<style scoped>\n",
       "    .dataframe tbody tr th:only-of-type {\n",
       "        vertical-align: middle;\n",
       "    }\n",
       "\n",
       "    .dataframe tbody tr th {\n",
       "        vertical-align: top;\n",
       "    }\n",
       "\n",
       "    .dataframe thead th {\n",
       "        text-align: right;\n",
       "    }\n",
       "</style>\n",
       "<table border=\"1\" class=\"dataframe\">\n",
       "  <thead>\n",
       "    <tr style=\"text-align: right;\">\n",
       "      <th></th>\n",
       "      <th>true</th>\n",
       "      <th>pred</th>\n",
       "    </tr>\n",
       "  </thead>\n",
       "  <tbody>\n",
       "    <tr>\n",
       "      <th>0</th>\n",
       "      <td>1</td>\n",
       "      <td>0</td>\n",
       "    </tr>\n",
       "    <tr>\n",
       "      <th>1</th>\n",
       "      <td>1</td>\n",
       "      <td>1</td>\n",
       "    </tr>\n",
       "    <tr>\n",
       "      <th>2</th>\n",
       "      <td>1</td>\n",
       "      <td>1</td>\n",
       "    </tr>\n",
       "    <tr>\n",
       "      <th>3</th>\n",
       "      <td>0</td>\n",
       "      <td>0</td>\n",
       "    </tr>\n",
       "    <tr>\n",
       "      <th>4</th>\n",
       "      <td>1</td>\n",
       "      <td>1</td>\n",
       "    </tr>\n",
       "  </tbody>\n",
       "</table>\n",
       "</div>"
      ],
      "text/plain": [
       "   true  pred\n",
       "0     1     0\n",
       "1     1     1\n",
       "2     1     1\n",
       "3     0     0\n",
       "4     1     1"
      ]
     },
     "execution_count": 3,
     "metadata": {},
     "output_type": "execute_result"
    }
   ],
   "source": [
    "df = pd.read_csv('classification.csv')\n",
    "df.head()"
   ]
  },
  {
   "cell_type": "markdown",
   "metadata": {},
   "source": [
    "### Шаг 2:\n",
    "\n",
    "Заполните таблицу ошибок классификации:\n",
    "\n",
    "Для этого подсчитайте величины `TP`, `FP`, `FN` и `TN` согласно их определениям. Например, `FP` — это количество объектов, имеющих класс 0, но отнесенных алгоритмом к классу 1. Ответ в данном вопросе — четыре числа через пробел."
   ]
  },
  {
   "cell_type": "code",
   "execution_count": 4,
   "metadata": {},
   "outputs": [
    {
     "name": "stdout",
     "output_type": "stream",
     "text": [
      "TP: 43 \n",
      "FP: 34 \n",
      "FN: 59 \n",
      "TN: 64\n"
     ]
    }
   ],
   "source": [
    "TP = len(df[(df['true'] == 1) & (df['pred'] == 1)])\n",
    "FP = len(df[(df['true'] == 0) & (df['pred'] == 1)])\n",
    "FN = len(df[(df['true'] == 1) & (df['pred'] == 0)])\n",
    "TN = len(df[(df['true'] == 0) & (df['pred'] == 0)])\n",
    "\n",
    "print('TP:', TP, '\\nFP:', FP, '\\nFN:', FN, '\\nTN:', TN)\n",
    "\n",
    "write_answer(TP, FP, FN, TN, n = 1)"
   ]
  },
  {
   "cell_type": "markdown",
   "metadata": {},
   "source": [
    "### Шаг 3: \n",
    "\n",
    "Посчитайте основные метрики качества классификатора:\n",
    "\n",
    "* `Accuracy` (доля верно угаданных) — `sklearn.metrics.accuracy_score`\n",
    "* `Precision` (точность) — `sklearn.metrics.precision_score`\n",
    "* `Recall` (полнота) — `sklearn.metrics.recall_score`\n",
    "* `F-мера` — `sklearn.metrics.f1_score`\n",
    "\n",
    "В качестве ответа укажите эти четыре числа через пробел."
   ]
  },
  {
   "cell_type": "code",
   "execution_count": 5,
   "metadata": {},
   "outputs": [
    {
     "name": "stdout",
     "output_type": "stream",
     "text": [
      "Accuracy: 0.535 \n",
      "Precision: 0.5584415584415584 \n",
      "Recall: 0.4215686274509804 \n",
      "F measure: 0.48044692737430167\n"
     ]
    }
   ],
   "source": [
    "a =  accuracy_score(df['true'], df['pred'])\n",
    "p = precision_score(df['true'], df['pred'])\n",
    "r = recall_score(df['true'], df['pred'])\n",
    "f1 = f1_score(df['true'], df['pred'])\n",
    "print('Accuracy:', a, '\\nPrecision:', p, '\\nRecall:', r, '\\nF measure:', f1)\n",
    "\n",
    "write_answer(a, p, r, f1, n = 2)"
   ]
  },
  {
   "cell_type": "markdown",
   "metadata": {},
   "source": [
    "### Шаг 4:\n",
    "\n",
    "Имеется четыре обученных классификатора. В файле `scores.csv` записаны истинные классы и значения степени принадлежности положительному классу для каждого классификатора на некоторой выборке:\n",
    "\n",
    "* для логистической регрессии — вероятность положительного класса (колонка `score_logreg`),\n",
    "* для `SVM` — отступ от разделяющей поверхности (колонка `score_svm`),\n",
    "* для метрического алгоритма — взвешенная сумма классов соседей (колонка `score_knn`),\n",
    "* для решающего дерева — доля положительных объектов в листе (колонка `score_tree`).\n",
    "\n",
    "Загрузите этот файл."
   ]
  },
  {
   "cell_type": "code",
   "execution_count": 6,
   "metadata": {},
   "outputs": [
    {
     "data": {
      "text/html": [
       "<div>\n",
       "<style scoped>\n",
       "    .dataframe tbody tr th:only-of-type {\n",
       "        vertical-align: middle;\n",
       "    }\n",
       "\n",
       "    .dataframe tbody tr th {\n",
       "        vertical-align: top;\n",
       "    }\n",
       "\n",
       "    .dataframe thead th {\n",
       "        text-align: right;\n",
       "    }\n",
       "</style>\n",
       "<table border=\"1\" class=\"dataframe\">\n",
       "  <thead>\n",
       "    <tr style=\"text-align: right;\">\n",
       "      <th></th>\n",
       "      <th>true</th>\n",
       "      <th>score_logreg</th>\n",
       "      <th>score_svm</th>\n",
       "      <th>score_knn</th>\n",
       "      <th>score_tree</th>\n",
       "    </tr>\n",
       "  </thead>\n",
       "  <tbody>\n",
       "    <tr>\n",
       "      <th>0</th>\n",
       "      <td>0</td>\n",
       "      <td>0.683832</td>\n",
       "      <td>0.145976</td>\n",
       "      <td>0.787063</td>\n",
       "      <td>0.500000</td>\n",
       "    </tr>\n",
       "    <tr>\n",
       "      <th>1</th>\n",
       "      <td>1</td>\n",
       "      <td>0.801966</td>\n",
       "      <td>0.239511</td>\n",
       "      <td>1.000000</td>\n",
       "      <td>0.833333</td>\n",
       "    </tr>\n",
       "    <tr>\n",
       "      <th>2</th>\n",
       "      <td>0</td>\n",
       "      <td>0.382315</td>\n",
       "      <td>-0.245701</td>\n",
       "      <td>0.000000</td>\n",
       "      <td>0.000000</td>\n",
       "    </tr>\n",
       "    <tr>\n",
       "      <th>3</th>\n",
       "      <td>1</td>\n",
       "      <td>0.506797</td>\n",
       "      <td>-0.137058</td>\n",
       "      <td>0.000000</td>\n",
       "      <td>0.105263</td>\n",
       "    </tr>\n",
       "    <tr>\n",
       "      <th>4</th>\n",
       "      <td>1</td>\n",
       "      <td>0.488781</td>\n",
       "      <td>-0.154148</td>\n",
       "      <td>0.000000</td>\n",
       "      <td>0.105263</td>\n",
       "    </tr>\n",
       "  </tbody>\n",
       "</table>\n",
       "</div>"
      ],
      "text/plain": [
       "   true  score_logreg  score_svm  score_knn  score_tree\n",
       "0     0      0.683832   0.145976   0.787063    0.500000\n",
       "1     1      0.801966   0.239511   1.000000    0.833333\n",
       "2     0      0.382315  -0.245701   0.000000    0.000000\n",
       "3     1      0.506797  -0.137058   0.000000    0.105263\n",
       "4     1      0.488781  -0.154148   0.000000    0.105263"
      ]
     },
     "execution_count": 6,
     "metadata": {},
     "output_type": "execute_result"
    }
   ],
   "source": [
    "df_scores = pd.read_csv('scores.csv')\n",
    "df_scores.head()"
   ]
  },
  {
   "cell_type": "markdown",
   "metadata": {},
   "source": [
    "### Шаг 5:\n",
    "\n",
    "Посчитайте площадь под `ROC`-кривой для каждого классификатора. Какой классификатор имеет наибольшее значение метрики `AUC-ROC` (укажите название столбца)? Воспользуйтесь функцией `sklearn.metrics.roc_auc_score`."
   ]
  },
  {
   "cell_type": "code",
   "execution_count": 7,
   "metadata": {},
   "outputs": [
    {
     "name": "stdout",
     "output_type": "stream",
     "text": [
      "ROC-AUC scores: {'score_logreg': 0.719187675070028, 'score_svm': 0.7086834733893557, 'score_knn': 0.6351540616246498, 'score_tree': 0.6919267707082833}\n",
      "Classifier with max score: score_logreg\n"
     ]
    }
   ],
   "source": [
    "roc_auc_scores = {col: roc_auc_score(df_scores['true'], df_scores[col]) for col in df_scores.columns[1:]}\n",
    "best_clf = max(roc_auc_scores, key=roc_auc_scores.get) \n",
    "\n",
    "print('ROC-AUC scores:', roc_auc_scores)\n",
    "print('Classifier with max score:', best_clf)\n",
    "\n",
    "write_answer(best_clf, n = 3)   "
   ]
  },
  {
   "cell_type": "markdown",
   "metadata": {},
   "source": [
    "### Шаг 6: \n",
    "\n",
    "Какой классификатор достигает наибольшей точности (`Precision`) при полноте (`Recall`) не менее 70% ?\n",
    "\n",
    "Чтобы получить ответ на этот вопрос, найдите все точки `precision-recall`-кривой с помощью функции `sklearn.metrics.precision_recall_curve`. Она возвращает три массива: `precision`, `recall`, `thresholds`. В них записаны точность и полнота при определенных порогах, указанных в массиве thresholds. Найдите максимальной значение точности среди тех записей, для которых полнота не меньше, чем 0.7."
   ]
  },
  {
   "cell_type": "code",
   "execution_count": 8,
   "metadata": {},
   "outputs": [
    {
     "name": "stdout",
     "output_type": "stream",
     "text": [
      "Precision scores: {'score_logreg': 0.6302521008403361, 'score_svm': 0.6228070175438597, 'score_knn': 0.6065573770491803, 'score_tree': 0.6517857142857143}\n",
      "Classifier with max precision: score_tree\n"
     ]
    },
    {
     "name": "stderr",
     "output_type": "stream",
     "text": [
      "C:\\ProgramData\\Anaconda3\\lib\\site-packages\\ipykernel_launcher.py:6: FutureWarning: Using a non-tuple sequence for multidimensional indexing is deprecated; use `arr[tuple(seq)]` instead of `arr[seq]`. In the future this will be interpreted as an array index, `arr[np.array(seq)]`, which will result either in an error or a different result.\n",
      "  \n"
     ]
    }
   ],
   "source": [
    "pr = {}\n",
    "\n",
    "for col in df_scores.columns[1:]:\n",
    "    precision, recall, thresholds = precision_recall_curve(df_scores['true'], df_scores[col])\n",
    "    b = np.where(recall>=0.7)\n",
    "    pr[col] = max(precision[list(b)])\n",
    "\n",
    "best_clf = max(pr, key=pr.get) \n",
    "\n",
    "print('Precision scores:', pr)\n",
    "print('Classifier with max precision:', best_clf)\n",
    "\n",
    "write_answer(best_clf, n = 4)"
   ]
  },
  {
   "cell_type": "markdown",
   "metadata": {},
   "source": [
    "Если ответом является нецелое число, то целую и дробную часть необходимо разграничивать точкой, например, 0.42. При необходимости округляйте дробную часть до двух знаков."
   ]
  }
 ],
 "metadata": {
  "kernelspec": {
   "display_name": "Python 3",
   "language": "python",
   "name": "python3"
  },
  "language_info": {
   "codemirror_mode": {
    "name": "ipython",
    "version": 3
   },
   "file_extension": ".py",
   "mimetype": "text/x-python",
   "name": "python",
   "nbconvert_exporter": "python",
   "pygments_lexer": "ipython3",
   "version": "3.7.3"
  }
 },
 "nbformat": 4,
 "nbformat_minor": 2
}
