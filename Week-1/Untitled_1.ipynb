{
 "cells": [
  {
   "cell_type": "code",
   "execution_count": 1,
   "metadata": {},
   "outputs": [],
   "source": [
    "import pandas"
   ]
  },
  {
   "cell_type": "code",
   "execution_count": 2,
   "metadata": {},
   "outputs": [],
   "source": [
    "data = pandas.read_csv('titanic.csv', index_col='PassengerId')"
   ]
  },
  {
   "cell_type": "code",
   "execution_count": 3,
   "metadata": {},
   "outputs": [
    {
     "data": {
      "text/html": [
       "<div>\n",
       "<style scoped>\n",
       "    .dataframe tbody tr th:only-of-type {\n",
       "        vertical-align: middle;\n",
       "    }\n",
       "\n",
       "    .dataframe tbody tr th {\n",
       "        vertical-align: top;\n",
       "    }\n",
       "\n",
       "    .dataframe thead th {\n",
       "        text-align: right;\n",
       "    }\n",
       "</style>\n",
       "<table border=\"1\" class=\"dataframe\">\n",
       "  <thead>\n",
       "    <tr style=\"text-align: right;\">\n",
       "      <th></th>\n",
       "      <th>Survived</th>\n",
       "      <th>Pclass</th>\n",
       "      <th>Name</th>\n",
       "      <th>Sex</th>\n",
       "      <th>Age</th>\n",
       "      <th>SibSp</th>\n",
       "      <th>Parch</th>\n",
       "      <th>Ticket</th>\n",
       "      <th>Fare</th>\n",
       "      <th>Cabin</th>\n",
       "      <th>Embarked</th>\n",
       "    </tr>\n",
       "    <tr>\n",
       "      <th>PassengerId</th>\n",
       "      <th></th>\n",
       "      <th></th>\n",
       "      <th></th>\n",
       "      <th></th>\n",
       "      <th></th>\n",
       "      <th></th>\n",
       "      <th></th>\n",
       "      <th></th>\n",
       "      <th></th>\n",
       "      <th></th>\n",
       "      <th></th>\n",
       "    </tr>\n",
       "  </thead>\n",
       "  <tbody>\n",
       "    <tr>\n",
       "      <th>1</th>\n",
       "      <td>0</td>\n",
       "      <td>3</td>\n",
       "      <td>Braund, Mr. Owen Harris</td>\n",
       "      <td>male</td>\n",
       "      <td>22.0</td>\n",
       "      <td>1</td>\n",
       "      <td>0</td>\n",
       "      <td>A/5 21171</td>\n",
       "      <td>7.2500</td>\n",
       "      <td>NaN</td>\n",
       "      <td>S</td>\n",
       "    </tr>\n",
       "    <tr>\n",
       "      <th>2</th>\n",
       "      <td>1</td>\n",
       "      <td>1</td>\n",
       "      <td>Cumings, Mrs. John Bradley (Florence Briggs Th...</td>\n",
       "      <td>female</td>\n",
       "      <td>38.0</td>\n",
       "      <td>1</td>\n",
       "      <td>0</td>\n",
       "      <td>PC 17599</td>\n",
       "      <td>71.2833</td>\n",
       "      <td>C85</td>\n",
       "      <td>C</td>\n",
       "    </tr>\n",
       "    <tr>\n",
       "      <th>3</th>\n",
       "      <td>1</td>\n",
       "      <td>3</td>\n",
       "      <td>Heikkinen, Miss. Laina</td>\n",
       "      <td>female</td>\n",
       "      <td>26.0</td>\n",
       "      <td>0</td>\n",
       "      <td>0</td>\n",
       "      <td>STON/O2. 3101282</td>\n",
       "      <td>7.9250</td>\n",
       "      <td>NaN</td>\n",
       "      <td>S</td>\n",
       "    </tr>\n",
       "    <tr>\n",
       "      <th>4</th>\n",
       "      <td>1</td>\n",
       "      <td>1</td>\n",
       "      <td>Futrelle, Mrs. Jacques Heath (Lily May Peel)</td>\n",
       "      <td>female</td>\n",
       "      <td>35.0</td>\n",
       "      <td>1</td>\n",
       "      <td>0</td>\n",
       "      <td>113803</td>\n",
       "      <td>53.1000</td>\n",
       "      <td>C123</td>\n",
       "      <td>S</td>\n",
       "    </tr>\n",
       "    <tr>\n",
       "      <th>5</th>\n",
       "      <td>0</td>\n",
       "      <td>3</td>\n",
       "      <td>Allen, Mr. William Henry</td>\n",
       "      <td>male</td>\n",
       "      <td>35.0</td>\n",
       "      <td>0</td>\n",
       "      <td>0</td>\n",
       "      <td>373450</td>\n",
       "      <td>8.0500</td>\n",
       "      <td>NaN</td>\n",
       "      <td>S</td>\n",
       "    </tr>\n",
       "  </tbody>\n",
       "</table>\n",
       "</div>"
      ],
      "text/plain": [
       "             Survived  Pclass  \\\n",
       "PassengerId                     \n",
       "1                   0       3   \n",
       "2                   1       1   \n",
       "3                   1       3   \n",
       "4                   1       1   \n",
       "5                   0       3   \n",
       "\n",
       "                                                          Name     Sex   Age  \\\n",
       "PassengerId                                                                    \n",
       "1                                      Braund, Mr. Owen Harris    male  22.0   \n",
       "2            Cumings, Mrs. John Bradley (Florence Briggs Th...  female  38.0   \n",
       "3                                       Heikkinen, Miss. Laina  female  26.0   \n",
       "4                 Futrelle, Mrs. Jacques Heath (Lily May Peel)  female  35.0   \n",
       "5                                     Allen, Mr. William Henry    male  35.0   \n",
       "\n",
       "             SibSp  Parch            Ticket     Fare Cabin Embarked  \n",
       "PassengerId                                                          \n",
       "1                1      0         A/5 21171   7.2500   NaN        S  \n",
       "2                1      0          PC 17599  71.2833   C85        C  \n",
       "3                0      0  STON/O2. 3101282   7.9250   NaN        S  \n",
       "4                1      0            113803  53.1000  C123        S  \n",
       "5                0      0            373450   8.0500   NaN        S  "
      ]
     },
     "execution_count": 3,
     "metadata": {},
     "output_type": "execute_result"
    }
   ],
   "source": [
    "data.head()"
   ]
  },
  {
   "cell_type": "code",
   "execution_count": 4,
   "metadata": {},
   "outputs": [
    {
     "data": {
      "text/plain": [
       "577"
      ]
     },
     "execution_count": 4,
     "metadata": {},
     "output_type": "execute_result"
    }
   ],
   "source": [
    "#1\n",
    "len(data[data.Sex == 'male'])"
   ]
  },
  {
   "cell_type": "code",
   "execution_count": 5,
   "metadata": {},
   "outputs": [
    {
     "data": {
      "text/plain": [
       "314"
      ]
     },
     "execution_count": 5,
     "metadata": {},
     "output_type": "execute_result"
    }
   ],
   "source": [
    "len(data[data.Sex == 'female'])"
   ]
  },
  {
   "cell_type": "code",
   "execution_count": 6,
   "metadata": {},
   "outputs": [
    {
     "data": {
      "text/plain": [
       "male      577\n",
       "female    314\n",
       "Name: Sex, dtype: int64"
      ]
     },
     "execution_count": 6,
     "metadata": {},
     "output_type": "execute_result"
    }
   ],
   "source": [
    "data['Sex'].value_counts()"
   ]
  },
  {
   "cell_type": "code",
   "execution_count": 7,
   "metadata": {},
   "outputs": [
    {
     "data": {
      "text/plain": [
       "342"
      ]
     },
     "execution_count": 7,
     "metadata": {},
     "output_type": "execute_result"
    }
   ],
   "source": [
    "#2\n",
    "len(data[data.Survived == 1])"
   ]
  },
  {
   "cell_type": "code",
   "execution_count": 8,
   "metadata": {},
   "outputs": [
    {
     "data": {
      "text/plain": [
       "(891, 11)"
      ]
     },
     "execution_count": 8,
     "metadata": {},
     "output_type": "execute_result"
    }
   ],
   "source": [
    "data.shape\n"
   ]
  },
  {
   "cell_type": "code",
   "execution_count": 9,
   "metadata": {},
   "outputs": [
    {
     "data": {
      "text/plain": [
       "891"
      ]
     },
     "execution_count": 9,
     "metadata": {},
     "output_type": "execute_result"
    }
   ],
   "source": [
    "data.shape[0]"
   ]
  },
  {
   "cell_type": "code",
   "execution_count": 10,
   "metadata": {},
   "outputs": [
    {
     "data": {
      "text/plain": [
       "38.38383838383838"
      ]
     },
     "execution_count": 10,
     "metadata": {},
     "output_type": "execute_result"
    }
   ],
   "source": [
    "(len(data[data.Survived == 1])/data.shape[0])*100"
   ]
  },
  {
   "cell_type": "code",
   "execution_count": 11,
   "metadata": {},
   "outputs": [
    {
     "data": {
      "text/plain": [
       "24.242424242424242"
      ]
     },
     "execution_count": 11,
     "metadata": {},
     "output_type": "execute_result"
    }
   ],
   "source": [
    "#3\n",
    "(len(data[data.Pclass == 1])/data.shape[0])*100"
   ]
  },
  {
   "cell_type": "code",
   "execution_count": 12,
   "metadata": {},
   "outputs": [
    {
     "data": {
      "text/plain": [
       "0.3838383838383838"
      ]
     },
     "execution_count": 12,
     "metadata": {},
     "output_type": "execute_result"
    }
   ],
   "source": [
    "data['Survived'].mean()"
   ]
  },
  {
   "cell_type": "code",
   "execution_count": 13,
   "metadata": {},
   "outputs": [
    {
     "data": {
      "text/plain": [
       "29.69911764705882"
      ]
     },
     "execution_count": 13,
     "metadata": {},
     "output_type": "execute_result"
    }
   ],
   "source": [
    "#4\n",
    "data['Age'].mean()"
   ]
  },
  {
   "cell_type": "code",
   "execution_count": 14,
   "metadata": {},
   "outputs": [
    {
     "data": {
      "text/plain": [
       "28.0"
      ]
     },
     "execution_count": 14,
     "metadata": {},
     "output_type": "execute_result"
    }
   ],
   "source": [
    "data['Age'].median()"
   ]
  },
  {
   "cell_type": "code",
   "execution_count": 15,
   "metadata": {},
   "outputs": [
    {
     "data": {
      "text/plain": [
       "0.4148376986201561"
      ]
     },
     "execution_count": 15,
     "metadata": {},
     "output_type": "execute_result"
    }
   ],
   "source": [
    "#5\n",
    "data['SibSp'].corr(data['Parch'])"
   ]
  },
  {
   "cell_type": "code",
   "execution_count": 16,
   "metadata": {},
   "outputs": [],
   "source": [
    "#6 \n",
    "women = data[data.Sex == 'female']['Name']"
   ]
  },
  {
   "cell_type": "code",
   "execution_count": 17,
   "metadata": {},
   "outputs": [
    {
     "name": "stdout",
     "output_type": "stream",
     "text": [
      "['Florence', 'Laina', 'Lily', 'Elisabeth', 'Adele', 'Marguerite', 'Elizabeth', 'Hulda', 'Mary', 'Emelia', 'Fatima', 'Anna', 'Torborg', 'Selma', 'Ellen', 'Marie', 'Mary', 'Augusta', 'Jamila', 'Johanna', 'Dorothy', 'Simonne', 'Margaret', 'Bridget', 'Josefine', 'Myna', 'Elizabeth', 'Emily', 'Constance', 'Amelie', 'Elizabeth', 'Erna', 'Lillian', 'Elizabeth', 'Brigdet', 'Bertha', 'Maria', 'Mabel', 'Ada', 'Matilda', 'Anna', 'Bertha', 'Hileni', 'Katriina', 'Malake', 'Ellis', 'Susan', 'Anna', 'Grace', 'Mathilde', 'Helen', 'Sultana', 'Anna', 'Elin', 'Robina', 'Edith', 'Katherine', 'Elizabeth', 'Edith', 'Anna', 'Eleanor', 'Ann', 'Constance', 'Luise', 'Johanna', 'Rosa', 'Carla', 'Margaret', 'Elise', 'Margaret', '\"Mrs', 'Telma', 'Helen', 'Clear', 'Madeleine', 'Eliina', 'Albina', 'Mathilde', 'Irene', 'Lillian', 'Alice', 'Marjorie', 'Thamine', 'Katherine', 'Agda', 'Anna', 'Elna', 'Helena', 'Hanne', 'Gertrude', 'Gladys', 'Anna', 'Lutie', 'Delia', 'Edith', 'Amelia', 'Elizabeth', 'Hanora', 'Kornelia', 'Augusta', 'Rosa', 'Kate', 'Ellen', 'Helen', 'Aloisia', 'Helen', 'Helene', 'Anna', 'Nora', 'Margaret', 'Maria', 'Laura', 'Margaret', 'Emily', 'Anna', 'Helmina', 'Miriam', 'Mary', 'Margaretta', 'Hilda', 'Sylvia', 'Marie', 'Ada', 'Emily', 'Jean', 'Agnes', 'Clara', 'Elizabeth', 'Alice', 'Amelia', 'Marion', 'Mary', 'Elsie', 'Annie', 'Mary', 'Helen', 'Catherine', 'Anna', 'Mantoura', 'Annie', 'Leontine', 'Stina', 'Leila', 'Aurora', 'Rosalie', '\"Mary\"', 'Mary', 'Kate', 'Bertha', 'Marjorie', 'Agnes', 'Elina', 'Jessie', 'Mari', 'Marija', 'Ida', 'Daisy', 'Annie', 'Lulu', 'Lyyli', 'Catharina', 'Anna', 'Ada', '\"Mrs', 'Florence', 'Alice', 'Lucile', 'Doolina', 'Emily', 'Esther', 'Encarnacion', 'Madeleine', 'Marie', 'Marion', 'Ellen', 'Helene', 'Ada', 'Marie', 'Ida', 'Hildur', 'Hedwig', 'Jeannie', 'Jane', 'Elizabeth', 'Bessie', 'Mary', 'Bridget', 'Kristina', 'Roberta', 'Jane', 'Elizabeth', 'Amelia', 'Florence', 'Anne', 'Ida', 'Lucy', 'Phyllis', 'Catherine', 'Marija', 'Eva', 'Bertha', 'Hedwig', 'Harriet', 'Ingeborg', 'Sigrid', 'Ethel', 'Velin', 'Lucille', 'Tillie', 'Emma', 'Marion', 'Alma', 'Charlotte', 'Mary', 'Ethel', 'Alice', 'Maria', 'Julie', 'Marian', 'Ruth', 'Martha', 'Mary', 'Jessie', 'Amy', 'Juliette', 'Elizabeth', 'Alfrida', 'Margaret', 'Alice', 'Cordelia', 'Marion', 'Gretchen', 'Mabel', 'Mary', 'Maria', 'Emma', 'Margit', 'Eugenie', 'Amy', 'Elsie', 'Hanora', 'Hanora', 'Catherine', 'Juliet', 'Elizabeth', 'Anna', 'Augusta', 'Katie', 'Georgette', 'Manca', 'Katherine', 'Madeleine', 'Saiide', 'Florence', 'Alice', '\"Mrs', 'Caroline', 'Edwina', 'Annie', 'Lillian', 'Margareth', 'Pieta', 'Elisabeth', 'Margaret', 'Susan', 'Anna', 'Joan', 'Jane', 'Lucy', 'Lucile', 'Anna', 'Mary', 'Mary', 'Eliza', 'Virginia', 'Elisabeth', 'Banoura', 'Vera', 'Anna', 'Stella', 'Farnham', 'Mara', 'Rosalie', 'Charlotte', 'Ellen', 'Bertha', 'Ebba', 'Wendla', 'Clara', 'Beila', 'Martha', 'Selini', 'Sara', 'Augusta', 'Edwiga', 'Nourelain', 'Mary', 'Lilian', 'Leah', 'Mary', 'Latifa', 'Margaret', 'Dorothy', 'Karolina', 'Asuncion', 'Sallie', 'Hannah', 'Adele', 'Lily', 'Imanita', 'Gerda', 'Margaret', 'Margaret', 'Catherine']\n"
     ]
    }
   ],
   "source": [
    "C = []\n",
    "for i in women:\n",
    "    if '(' in i:\n",
    "    if ')' in i.split('(')[1].split(' ')[0]:\n",
    "      C.append(i.split('(')[1].split(' ')[0].split(')')[0])\n",
    "    else:\n",
    "      C.append(i.split('(')[1].split(' ')[0])\n",
    "\n",
    "    else:\n",
    "    C.append(i.split('. ')[1].split(' ')[0])\n",
    "    \n",
    "print (C)"
   ]
  },
  {
   "cell_type": "code",
   "execution_count": 18,
   "metadata": {},
   "outputs": [
    {
     "data": {
      "text/plain": [
       "Counter({'Florence': 4,\n",
       "         'Laina': 1,\n",
       "         'Lily': 2,\n",
       "         'Elisabeth': 3,\n",
       "         'Adele': 2,\n",
       "         'Marguerite': 1,\n",
       "         'Elizabeth': 11,\n",
       "         'Hulda': 1,\n",
       "         'Mary': 14,\n",
       "         'Emelia': 1,\n",
       "         'Fatima': 1,\n",
       "         'Anna': 15,\n",
       "         'Torborg': 1,\n",
       "         'Selma': 1,\n",
       "         'Ellen': 4,\n",
       "         'Marie': 4,\n",
       "         'Augusta': 4,\n",
       "         'Jamila': 1,\n",
       "         'Johanna': 2,\n",
       "         'Dorothy': 2,\n",
       "         'Simonne': 1,\n",
       "         'Margaret': 10,\n",
       "         'Bridget': 2,\n",
       "         'Josefine': 1,\n",
       "         'Myna': 1,\n",
       "         'Emily': 4,\n",
       "         'Constance': 2,\n",
       "         'Amelie': 1,\n",
       "         'Erna': 1,\n",
       "         'Lillian': 3,\n",
       "         'Brigdet': 1,\n",
       "         'Bertha': 5,\n",
       "         'Maria': 4,\n",
       "         'Mabel': 2,\n",
       "         'Ada': 4,\n",
       "         'Matilda': 1,\n",
       "         'Hileni': 1,\n",
       "         'Katriina': 1,\n",
       "         'Malake': 1,\n",
       "         'Ellis': 1,\n",
       "         'Susan': 2,\n",
       "         'Grace': 1,\n",
       "         'Mathilde': 2,\n",
       "         'Helen': 5,\n",
       "         'Sultana': 1,\n",
       "         'Elin': 1,\n",
       "         'Robina': 1,\n",
       "         'Edith': 3,\n",
       "         'Katherine': 3,\n",
       "         'Eleanor': 1,\n",
       "         'Ann': 1,\n",
       "         'Luise': 1,\n",
       "         'Rosa': 2,\n",
       "         'Carla': 1,\n",
       "         'Elise': 1,\n",
       "         '\"Mrs': 3,\n",
       "         'Telma': 1,\n",
       "         'Clear': 1,\n",
       "         'Madeleine': 3,\n",
       "         'Eliina': 1,\n",
       "         'Albina': 1,\n",
       "         'Irene': 1,\n",
       "         'Alice': 6,\n",
       "         'Marjorie': 2,\n",
       "         'Thamine': 1,\n",
       "         'Agda': 1,\n",
       "         'Elna': 1,\n",
       "         'Helena': 1,\n",
       "         'Hanne': 1,\n",
       "         'Gertrude': 1,\n",
       "         'Gladys': 1,\n",
       "         'Lutie': 1,\n",
       "         'Delia': 1,\n",
       "         'Amelia': 3,\n",
       "         'Hanora': 3,\n",
       "         'Kornelia': 1,\n",
       "         'Kate': 2,\n",
       "         'Aloisia': 1,\n",
       "         'Helene': 2,\n",
       "         'Nora': 1,\n",
       "         'Laura': 1,\n",
       "         'Helmina': 1,\n",
       "         'Miriam': 1,\n",
       "         'Margaretta': 1,\n",
       "         'Hilda': 1,\n",
       "         'Sylvia': 1,\n",
       "         'Jean': 1,\n",
       "         'Agnes': 2,\n",
       "         'Clara': 2,\n",
       "         'Marion': 4,\n",
       "         'Elsie': 2,\n",
       "         'Annie': 4,\n",
       "         'Catherine': 4,\n",
       "         'Mantoura': 1,\n",
       "         'Leontine': 1,\n",
       "         'Stina': 1,\n",
       "         'Leila': 1,\n",
       "         'Aurora': 1,\n",
       "         'Rosalie': 2,\n",
       "         '\"Mary\"': 1,\n",
       "         'Elina': 1,\n",
       "         'Jessie': 2,\n",
       "         'Mari': 1,\n",
       "         'Marija': 2,\n",
       "         'Ida': 3,\n",
       "         'Daisy': 1,\n",
       "         'Lulu': 1,\n",
       "         'Lyyli': 1,\n",
       "         'Catharina': 1,\n",
       "         'Lucile': 2,\n",
       "         'Doolina': 1,\n",
       "         'Esther': 1,\n",
       "         'Encarnacion': 1,\n",
       "         'Hildur': 1,\n",
       "         'Hedwig': 2,\n",
       "         'Jeannie': 1,\n",
       "         'Jane': 3,\n",
       "         'Bessie': 1,\n",
       "         'Kristina': 1,\n",
       "         'Roberta': 1,\n",
       "         'Anne': 1,\n",
       "         'Lucy': 2,\n",
       "         'Phyllis': 1,\n",
       "         'Eva': 1,\n",
       "         'Harriet': 1,\n",
       "         'Ingeborg': 1,\n",
       "         'Sigrid': 1,\n",
       "         'Ethel': 2,\n",
       "         'Velin': 1,\n",
       "         'Lucille': 1,\n",
       "         'Tillie': 1,\n",
       "         'Emma': 2,\n",
       "         'Alma': 1,\n",
       "         'Charlotte': 2,\n",
       "         'Julie': 1,\n",
       "         'Marian': 1,\n",
       "         'Ruth': 1,\n",
       "         'Martha': 2,\n",
       "         'Amy': 2,\n",
       "         'Juliette': 1,\n",
       "         'Alfrida': 1,\n",
       "         'Cordelia': 1,\n",
       "         'Gretchen': 1,\n",
       "         'Margit': 1,\n",
       "         'Eugenie': 1,\n",
       "         'Juliet': 1,\n",
       "         'Katie': 1,\n",
       "         'Georgette': 1,\n",
       "         'Manca': 1,\n",
       "         'Saiide': 1,\n",
       "         'Caroline': 1,\n",
       "         'Edwina': 1,\n",
       "         'Margareth': 1,\n",
       "         'Pieta': 1,\n",
       "         'Joan': 1,\n",
       "         'Eliza': 1,\n",
       "         'Virginia': 1,\n",
       "         'Banoura': 1,\n",
       "         'Vera': 1,\n",
       "         'Stella': 1,\n",
       "         'Farnham': 1,\n",
       "         'Mara': 1,\n",
       "         'Ebba': 1,\n",
       "         'Wendla': 1,\n",
       "         'Beila': 1,\n",
       "         'Selini': 1,\n",
       "         'Sara': 1,\n",
       "         'Edwiga': 1,\n",
       "         'Nourelain': 1,\n",
       "         'Lilian': 1,\n",
       "         'Leah': 1,\n",
       "         'Latifa': 1,\n",
       "         'Karolina': 1,\n",
       "         'Asuncion': 1,\n",
       "         'Sallie': 1,\n",
       "         'Hannah': 1,\n",
       "         'Imanita': 1,\n",
       "         'Gerda': 1})"
      ]
     },
     "execution_count": 18,
     "metadata": {},
     "output_type": "execute_result"
    }
   ],
   "source": [
    "from collections import Counter\n",
    "c = Counter(C)\n",
    "c"
   ]
  },
  {
   "cell_type": "code",
   "execution_count": null,
   "metadata": {},
   "outputs": [],
   "source": []
  }
 ],
 "metadata": {
  "kernelspec": {
   "display_name": "Python 3",
   "language": "python",
   "name": "python3"
  },
  "language_info": {
   "codemirror_mode": {
    "name": "ipython",
    "version": 3
   },
   "file_extension": ".py",
   "mimetype": "text/x-python",
   "name": "python",
   "nbconvert_exporter": "python",
   "pygments_lexer": "ipython3",
   "version": "3.7.3"
  }
 },
 "nbformat": 4,
 "nbformat_minor": 2
}
